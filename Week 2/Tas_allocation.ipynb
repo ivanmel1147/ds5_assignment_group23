{
 "cells": [
  {
   "cell_type": "code",
   "execution_count": null,
   "id": "363c556b",
   "metadata": {
    "vscode": {
     "languageId": "plaintext"
    }
   },
   "outputs": [],
   "source": [
    "#Ex1\n",
    "#Edwin: Averge Calculation Function\n",
    "\n",
    "#Ex2\n",
    "#Edwin: Function 2 and 4\n",
    "\n",
    "#Ex3\n"
   ]
  }
 ],
 "metadata": {
  "language_info": {
   "name": "python"
  }
 },
 "nbformat": 4,
 "nbformat_minor": 5
}
