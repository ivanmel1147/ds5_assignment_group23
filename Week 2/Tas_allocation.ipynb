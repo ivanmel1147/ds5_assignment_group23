{
 "cells": [
  {
   "cell_type": "code",
   "execution_count": null,
   "id": "363c556b",
   "metadata": {
    "vscode": {
     "languageId": "plaintext"
    }
   },
   "outputs": [],
   "source": [
    "#Ex1\n",
    "#Edwin: Averge Calculation Function\n",
    "#Bronswhite: Filter record Function\n",
    "\n",
    "#Ex2\n",
    "#Edwin: Function 2 and 4\n",
    "#Bronswhite : Function 3\n",
    "\n"
   ]
  }
 ],
 "metadata": {
  "language_info": {
   "name": "python"
  }
 },
 "nbformat": 4,
 "nbformat_minor": 5
}
