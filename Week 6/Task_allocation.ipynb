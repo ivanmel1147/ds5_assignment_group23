{
 "cells": [
  {
   "cell_type": "code",
   "execution_count": null,
   "id": "1dacb716",
   "metadata": {
    "vscode": {
     "languageId": "plaintext"
    }
   },
   "outputs": [],
   "source": [
    "#Ex1\n",
    "#Edwin: Copy code from exercise, Split data, Plot data & answer questions\n",
    "#Bronswhite: \n",
    "#Ivan: \n",
    "\n",
    "#Ex2\n",
    "#Edwin:  Load Dataset, Explore Dataset, Handle Missing Values, Visualize Distribution\n",
    "#Bronswhite:\n",
    "#Ivan: \n",
    "\n",
    "#Ex3\n",
    "#Edwin: Load Dataset\n",
    "#Bronswhite: \n",
    "#Ivan: "
   ]
  }
 ],
 "metadata": {
  "language_info": {
   "name": "python"
  }
 },
 "nbformat": 4,
 "nbformat_minor": 5
}
