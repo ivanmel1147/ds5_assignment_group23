{
 "cells": [
  {
   "cell_type": "code",
   "execution_count": null,
   "id": "1dacb716",
   "metadata": {
    "vscode": {
     "languageId": "plaintext"
    }
   },
   "outputs": [],
   "source": [
    "#Ex1\n",
    "#Edwin: Function to Load Dataset, Function to Remove Duplicates\n",
    "#Bronswhite: Function to Separate categorical and numerical data,Function to Create a main cleaning function \n",
    "#Ivan:\n",
    "\n",
    "#Ex2\n",
    "#Edwin:  Function to Load Dataset, Function to calculate total sales and percentage per column\n",
    "#Bronswhite: Function to generate sale report and Function to save report to excel\n",
    "#Ivan: \n",
    "\n",
    "#Ex3\n",
    "#Edwin: Function to Load Dataset, Function to fix encoding issues, Function to clean tweets\n",
    "#Bronswhite: \n",
    "#Ivan: "
   ]
  }
 ],
 "metadata": {
  "language_info": {
   "name": "python"
  }
 },
 "nbformat": 4,
 "nbformat_minor": 5
}
